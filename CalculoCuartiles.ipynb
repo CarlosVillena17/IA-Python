{
 "cells": [
  {
   "cell_type": "markdown",
   "id": "13fc723b",
   "metadata": {},
   "source": [
    "## Carlos Ricardo Villena Cabrejos "
   ]
  },
  {
   "cell_type": "markdown",
   "id": "4ea3f5be",
   "metadata": {},
   "source": [
    "## Elaboración del Notebook para el cálculo de cuartiles "
   ]
  },
  {
   "cell_type": "code",
   "execution_count": 1,
   "id": "e648973c",
   "metadata": {},
   "outputs": [],
   "source": [
    "import pandas as pd\n",
    "import numpy as np\n",
    "import matplotlib.pyplot as plt\n",
    "import seaborn as sns\n",
    "%matplotlib inline"
   ]
  },
  {
   "cell_type": "code",
   "execution_count": 4,
   "id": "528952e6",
   "metadata": {},
   "outputs": [],
   "source": [
    "\n",
    "datos = pd.read_csv('train.csv')"
   ]
  },
  {
   "cell_type": "code",
   "execution_count": 5,
   "id": "8e42cc55",
   "metadata": {},
   "outputs": [
    {
     "data": {
      "text/html": [
       "<div>\n",
       "<style scoped>\n",
       "    .dataframe tbody tr th:only-of-type {\n",
       "        vertical-align: middle;\n",
       "    }\n",
       "\n",
       "    .dataframe tbody tr th {\n",
       "        vertical-align: top;\n",
       "    }\n",
       "\n",
       "    .dataframe thead th {\n",
       "        text-align: right;\n",
       "    }\n",
       "</style>\n",
       "<table border=\"1\" class=\"dataframe\">\n",
       "  <thead>\n",
       "    <tr style=\"text-align: right;\">\n",
       "      <th></th>\n",
       "      <th>PassengerId</th>\n",
       "      <th>Survived</th>\n",
       "      <th>Pclass</th>\n",
       "      <th>Name</th>\n",
       "      <th>Sex</th>\n",
       "      <th>Age</th>\n",
       "      <th>SibSp</th>\n",
       "      <th>Parch</th>\n",
       "      <th>Ticket</th>\n",
       "      <th>Fare</th>\n",
       "      <th>Cabin</th>\n",
       "      <th>Embarked</th>\n",
       "    </tr>\n",
       "  </thead>\n",
       "  <tbody>\n",
       "    <tr>\n",
       "      <th>0</th>\n",
       "      <td>1</td>\n",
       "      <td>0</td>\n",
       "      <td>3</td>\n",
       "      <td>Braund, Mr. Owen Harris</td>\n",
       "      <td>male</td>\n",
       "      <td>22.0</td>\n",
       "      <td>1</td>\n",
       "      <td>0</td>\n",
       "      <td>A/5 21171</td>\n",
       "      <td>7.2500</td>\n",
       "      <td>NaN</td>\n",
       "      <td>S</td>\n",
       "    </tr>\n",
       "    <tr>\n",
       "      <th>1</th>\n",
       "      <td>2</td>\n",
       "      <td>1</td>\n",
       "      <td>1</td>\n",
       "      <td>Cumings, Mrs. John Bradley (Florence Briggs Th...</td>\n",
       "      <td>female</td>\n",
       "      <td>38.0</td>\n",
       "      <td>1</td>\n",
       "      <td>0</td>\n",
       "      <td>PC 17599</td>\n",
       "      <td>71.2833</td>\n",
       "      <td>C85</td>\n",
       "      <td>C</td>\n",
       "    </tr>\n",
       "    <tr>\n",
       "      <th>2</th>\n",
       "      <td>3</td>\n",
       "      <td>1</td>\n",
       "      <td>3</td>\n",
       "      <td>Heikkinen, Miss. Laina</td>\n",
       "      <td>female</td>\n",
       "      <td>26.0</td>\n",
       "      <td>0</td>\n",
       "      <td>0</td>\n",
       "      <td>STON/O2. 3101282</td>\n",
       "      <td>7.9250</td>\n",
       "      <td>NaN</td>\n",
       "      <td>S</td>\n",
       "    </tr>\n",
       "    <tr>\n",
       "      <th>3</th>\n",
       "      <td>4</td>\n",
       "      <td>1</td>\n",
       "      <td>1</td>\n",
       "      <td>Futrelle, Mrs. Jacques Heath (Lily May Peel)</td>\n",
       "      <td>female</td>\n",
       "      <td>35.0</td>\n",
       "      <td>1</td>\n",
       "      <td>0</td>\n",
       "      <td>113803</td>\n",
       "      <td>53.1000</td>\n",
       "      <td>C123</td>\n",
       "      <td>S</td>\n",
       "    </tr>\n",
       "    <tr>\n",
       "      <th>4</th>\n",
       "      <td>5</td>\n",
       "      <td>0</td>\n",
       "      <td>3</td>\n",
       "      <td>Allen, Mr. William Henry</td>\n",
       "      <td>male</td>\n",
       "      <td>35.0</td>\n",
       "      <td>0</td>\n",
       "      <td>0</td>\n",
       "      <td>373450</td>\n",
       "      <td>8.0500</td>\n",
       "      <td>NaN</td>\n",
       "      <td>S</td>\n",
       "    </tr>\n",
       "  </tbody>\n",
       "</table>\n",
       "</div>"
      ],
      "text/plain": [
       "   PassengerId  Survived  Pclass  \\\n",
       "0            1         0       3   \n",
       "1            2         1       1   \n",
       "2            3         1       3   \n",
       "3            4         1       1   \n",
       "4            5         0       3   \n",
       "\n",
       "                                                Name     Sex   Age  SibSp  \\\n",
       "0                            Braund, Mr. Owen Harris    male  22.0      1   \n",
       "1  Cumings, Mrs. John Bradley (Florence Briggs Th...  female  38.0      1   \n",
       "2                             Heikkinen, Miss. Laina  female  26.0      0   \n",
       "3       Futrelle, Mrs. Jacques Heath (Lily May Peel)  female  35.0      1   \n",
       "4                           Allen, Mr. William Henry    male  35.0      0   \n",
       "\n",
       "   Parch            Ticket     Fare Cabin Embarked  \n",
       "0      0         A/5 21171   7.2500   NaN        S  \n",
       "1      0          PC 17599  71.2833   C85        C  \n",
       "2      0  STON/O2. 3101282   7.9250   NaN        S  \n",
       "3      0            113803  53.1000  C123        S  \n",
       "4      0            373450   8.0500   NaN        S  "
      ]
     },
     "execution_count": 5,
     "metadata": {},
     "output_type": "execute_result"
    }
   ],
   "source": [
    "datos.head()"
   ]
  },
  {
   "cell_type": "code",
   "execution_count": 7,
   "id": "58a1cce8",
   "metadata": {},
   "outputs": [
    {
     "name": "stdout",
     "output_type": "stream",
     "text": [
      "<class 'pandas.core.frame.DataFrame'>\n",
      "RangeIndex: 891 entries, 0 to 890\n",
      "Data columns (total 12 columns):\n",
      " #   Column       Non-Null Count  Dtype  \n",
      "---  ------       --------------  -----  \n",
      " 0   PassengerId  891 non-null    int64  \n",
      " 1   Survived     891 non-null    int64  \n",
      " 2   Pclass       891 non-null    int64  \n",
      " 3   Name         891 non-null    object \n",
      " 4   Sex          891 non-null    object \n",
      " 5   Age          714 non-null    float64\n",
      " 6   SibSp        891 non-null    int64  \n",
      " 7   Parch        891 non-null    int64  \n",
      " 8   Ticket       891 non-null    object \n",
      " 9   Fare         891 non-null    float64\n",
      " 10  Cabin        204 non-null    object \n",
      " 11  Embarked     889 non-null    object \n",
      "dtypes: float64(2), int64(5), object(5)\n",
      "memory usage: 83.7+ KB\n"
     ]
    }
   ],
   "source": [
    "datos.info()"
   ]
  },
  {
   "cell_type": "code",
   "execution_count": 20,
   "id": "142868bd",
   "metadata": {},
   "outputs": [
    {
     "data": {
      "text/html": [
       "<div>\n",
       "<style scoped>\n",
       "    .dataframe tbody tr th:only-of-type {\n",
       "        vertical-align: middle;\n",
       "    }\n",
       "\n",
       "    .dataframe tbody tr th {\n",
       "        vertical-align: top;\n",
       "    }\n",
       "\n",
       "    .dataframe thead th {\n",
       "        text-align: right;\n",
       "    }\n",
       "</style>\n",
       "<table border=\"1\" class=\"dataframe\">\n",
       "  <thead>\n",
       "    <tr style=\"text-align: right;\">\n",
       "      <th></th>\n",
       "      <th>PassengerId</th>\n",
       "      <th>Survived</th>\n",
       "      <th>Pclass</th>\n",
       "      <th>Age</th>\n",
       "      <th>SibSp</th>\n",
       "      <th>Parch</th>\n",
       "      <th>Fare</th>\n",
       "    </tr>\n",
       "  </thead>\n",
       "  <tbody>\n",
       "    <tr>\n",
       "      <th>count</th>\n",
       "      <td>891.000000</td>\n",
       "      <td>891.000000</td>\n",
       "      <td>891.000000</td>\n",
       "      <td>714.000000</td>\n",
       "      <td>891.000000</td>\n",
       "      <td>891.000000</td>\n",
       "      <td>891.000000</td>\n",
       "    </tr>\n",
       "    <tr>\n",
       "      <th>mean</th>\n",
       "      <td>446.000000</td>\n",
       "      <td>0.383838</td>\n",
       "      <td>2.308642</td>\n",
       "      <td>29.699118</td>\n",
       "      <td>0.523008</td>\n",
       "      <td>0.381594</td>\n",
       "      <td>32.204208</td>\n",
       "    </tr>\n",
       "    <tr>\n",
       "      <th>std</th>\n",
       "      <td>257.353842</td>\n",
       "      <td>0.486592</td>\n",
       "      <td>0.836071</td>\n",
       "      <td>14.526497</td>\n",
       "      <td>1.102743</td>\n",
       "      <td>0.806057</td>\n",
       "      <td>49.693429</td>\n",
       "    </tr>\n",
       "    <tr>\n",
       "      <th>min</th>\n",
       "      <td>1.000000</td>\n",
       "      <td>0.000000</td>\n",
       "      <td>1.000000</td>\n",
       "      <td>0.420000</td>\n",
       "      <td>0.000000</td>\n",
       "      <td>0.000000</td>\n",
       "      <td>0.000000</td>\n",
       "    </tr>\n",
       "    <tr>\n",
       "      <th>25%</th>\n",
       "      <td>223.500000</td>\n",
       "      <td>0.000000</td>\n",
       "      <td>2.000000</td>\n",
       "      <td>20.125000</td>\n",
       "      <td>0.000000</td>\n",
       "      <td>0.000000</td>\n",
       "      <td>7.910400</td>\n",
       "    </tr>\n",
       "    <tr>\n",
       "      <th>50%</th>\n",
       "      <td>446.000000</td>\n",
       "      <td>0.000000</td>\n",
       "      <td>3.000000</td>\n",
       "      <td>28.000000</td>\n",
       "      <td>0.000000</td>\n",
       "      <td>0.000000</td>\n",
       "      <td>14.454200</td>\n",
       "    </tr>\n",
       "    <tr>\n",
       "      <th>75%</th>\n",
       "      <td>668.500000</td>\n",
       "      <td>1.000000</td>\n",
       "      <td>3.000000</td>\n",
       "      <td>38.000000</td>\n",
       "      <td>1.000000</td>\n",
       "      <td>0.000000</td>\n",
       "      <td>31.000000</td>\n",
       "    </tr>\n",
       "    <tr>\n",
       "      <th>max</th>\n",
       "      <td>891.000000</td>\n",
       "      <td>1.000000</td>\n",
       "      <td>3.000000</td>\n",
       "      <td>80.000000</td>\n",
       "      <td>8.000000</td>\n",
       "      <td>6.000000</td>\n",
       "      <td>512.329200</td>\n",
       "    </tr>\n",
       "  </tbody>\n",
       "</table>\n",
       "</div>"
      ],
      "text/plain": [
       "       PassengerId    Survived      Pclass         Age       SibSp  \\\n",
       "count   891.000000  891.000000  891.000000  714.000000  891.000000   \n",
       "mean    446.000000    0.383838    2.308642   29.699118    0.523008   \n",
       "std     257.353842    0.486592    0.836071   14.526497    1.102743   \n",
       "min       1.000000    0.000000    1.000000    0.420000    0.000000   \n",
       "25%     223.500000    0.000000    2.000000   20.125000    0.000000   \n",
       "50%     446.000000    0.000000    3.000000   28.000000    0.000000   \n",
       "75%     668.500000    1.000000    3.000000   38.000000    1.000000   \n",
       "max     891.000000    1.000000    3.000000   80.000000    8.000000   \n",
       "\n",
       "            Parch        Fare  \n",
       "count  891.000000  891.000000  \n",
       "mean     0.381594   32.204208  \n",
       "std      0.806057   49.693429  \n",
       "min      0.000000    0.000000  \n",
       "25%      0.000000    7.910400  \n",
       "50%      0.000000   14.454200  \n",
       "75%      0.000000   31.000000  \n",
       "max      6.000000  512.329200  "
      ]
     },
     "execution_count": 20,
     "metadata": {},
     "output_type": "execute_result"
    }
   ],
   "source": [
    "datos.describe()"
   ]
  },
  {
   "cell_type": "code",
   "execution_count": null,
   "id": "1da888c8",
   "metadata": {},
   "outputs": [],
   "source": []
  },
  {
   "cell_type": "code",
   "execution_count": 8,
   "id": "c0404d4d",
   "metadata": {
    "scrolled": true
   },
   "outputs": [
    {
     "data": {
      "text/plain": [
       "<AxesSubplot:xlabel='Pclass', ylabel='Age'>"
      ]
     },
     "execution_count": 8,
     "metadata": {},
     "output_type": "execute_result"
    },
    {
     "data": {
      "image/png": "[encoded data removed]",
      "text/plain": [
       "<Figure size 432x288 with 1 Axes>"
      ]
     },
     "metadata": {
      "needs_background": "light"
     },
     "output_type": "display_data"
    }
   ],
   "source": [
    "sns.boxplot(x='Pclass',y='Age',data=datos,palette='winter')"
   ]
  },
  {
   "cell_type": "markdown",
   "id": "3a334fff",
   "metadata": {},
   "source": [
    "###  Hallamos los pasajeros por clase 1,2,3 "
   ]
  },
  {
   "cell_type": "code",
   "execution_count": 21,
   "id": "48c5461e",
   "metadata": {},
   "outputs": [],
   "source": [
    "\n",
    "pasaj_c1 = datos[(datos['Pclass']==1) & (datos['Age'].isnull()==False)]\n",
    "pasaj_c2 = datos[datos['Pclass']==2]\n",
    "pasaj_c3 = datos[datos['Pclass']==3]"
   ]
  },
  {
   "cell_type": "code",
   "execution_count": 22,
   "id": "e412b143",
   "metadata": {},
   "outputs": [],
   "source": [
    "edades_c1 = pasaj_c1['Age']\n",
    "edades_c2 = pasaj_c2['Age'].dropna()\n",
    "edades_c3 = pasaj_c3['Age'].dropna()\n"
   ]
  },
  {
   "cell_type": "markdown",
   "id": "41da01c2",
   "metadata": {},
   "source": [
    "### Hallando los cuartiles usando la funcion quantile 0.25, 0.50, 0,75"
   ]
  },
  {
   "cell_type": "code",
   "execution_count": 23,
   "id": "453658b1",
   "metadata": {},
   "outputs": [],
   "source": [
    "\n",
    "Cuartiles_c1=pd.DataFrame(edades_c1.quantile([0.25,0.50,0.75]))\n",
    "Cuartiles_c1.columns = [\"Edad\"]\n",
    "Cuartiles_c1.index = [\"Q1\",\"Q2\",\"Q3\"]\n",
    "Cuartiles_c2=pd.DataFrame(edades_c2.quantile([0.25,0.50,0.75]))\n",
    "Cuartiles_c2.columns = [\"Edad\"]\n",
    "Cuartiles_c2.index = [\"Q1\",\"Q2\",\"Q3\"]\n",
    "Cuartiles_c3=pd.DataFrame(edades_c3.quantile([0.25,0.50,0.75]))\n",
    "Cuartiles_c3.columns = [\"Edad\"]\n",
    "Cuartiles_c3.index = [\"Q1\",\"Q2\",\"Q3\"]\n"
   ]
  },
  {
   "cell_type": "markdown",
   "id": "42a0c362",
   "metadata": {},
   "source": [
    "### Impresión de los Cuartiles c1,c2,c3"
   ]
  },
  {
   "cell_type": "code",
   "execution_count": 34,
   "id": "6fb26a9e",
   "metadata": {
    "scrolled": false
   },
   "outputs": [
    {
     "name": "stdout",
     "output_type": "stream",
     "text": [
      "PRIMERA CLASE\n",
      "    Edad\n",
      "Q1  27.0\n",
      "Q2  37.0\n",
      "Q3  49.0\n",
      "SEGUNDA CLASE\n",
      "    Edad\n",
      "Q1  23.0\n",
      "Q2  29.0\n",
      "Q3  36.0\n",
      "TERCERA CLASE\n",
      "    Edad\n",
      "Q1  18.0\n",
      "Q2  24.0\n",
      "Q3  32.0\n"
     ]
    }
   ],
   "source": [
    "\n",
    "print(\"Primera Clase\".upper())\n",
    "print(Cuartiles_c1)\n",
    "print(\"Segunda Clase\".upper())\n",
    "print(Cuartiles_c2)\n",
    "print(\"Tercera Clase\".upper())\n",
    "print(Cuartiles_c3)\n"
   ]
  },
  {
   "cell_type": "markdown",
   "id": "79693223",
   "metadata": {},
   "source": [
    "### Calculamos el promedio edad por cada Clase"
   ]
  },
  {
   "cell_type": "code",
   "execution_count": 29,
   "id": "86a8d936",
   "metadata": {},
   "outputs": [
    {
     "name": "stdout",
     "output_type": "stream",
     "text": [
      "PROMEDIO EDAD 1RA CLASE:  38.23\n",
      "PROMEDIO EDAD 2DA CLASE:  29.88\n",
      "PROMEDIO EDAD 3RA CLASE:  25.14\n"
     ]
    }
   ],
   "source": [
    "\n",
    "print(\"Promedio edad 1ra Clase: \".upper(),np.round(edades_c1.mean(),2))\n",
    "print(\"Promedio edad 2da Clase: \".upper(),np.round(edades_c2.mean(),2))\n",
    "print(\"Promedio edad 3ra clase: \".upper(),np.round(edades_c3.mean(),2))"
   ]
  },
  {
   "cell_type": "markdown",
   "id": "484d87a4",
   "metadata": {},
   "source": [
    "### Realizando la agrupación de Pclass"
   ]
  },
  {
   "cell_type": "code",
   "execution_count": 30,
   "id": "8d3ea8c4",
   "metadata": {},
   "outputs": [],
   "source": [
    "\n",
    "psj_por_clase = datos.groupby(['Pclass'])"
   ]
  },
  {
   "cell_type": "markdown",
   "id": "451fef2f",
   "metadata": {},
   "source": [
    "### Hallando los cuartiles usando la funcion quantile 0.25, 0.50, 0,75"
   ]
  },
  {
   "cell_type": "code",
   "execution_count": 31,
   "id": "e33f38a5",
   "metadata": {},
   "outputs": [
    {
     "data": {
      "text/plain": [
       "Pclass      \n",
       "1       0.25    27.0\n",
       "        0.50    37.0\n",
       "        0.75    49.0\n",
       "2       0.25    23.0\n",
       "        0.50    29.0\n",
       "        0.75    36.0\n",
       "3       0.25    18.0\n",
       "        0.50    24.0\n",
       "        0.75    32.0\n",
       "Name: Age, dtype: float64"
      ]
     },
     "execution_count": 31,
     "metadata": {},
     "output_type": "execute_result"
    }
   ],
   "source": [
    "\n",
    "psj_por_clase['Age'].quantile([0.25,0.50,0.75])"
   ]
  },
  {
   "cell_type": "code",
   "execution_count": 32,
   "id": "93da72a0",
   "metadata": {},
   "outputs": [
    {
     "name": "stdout",
     "output_type": "stream",
     "text": [
      "LA MEDIANA DE LA CLASE 1 ES 37\n",
      "LA MEDIANA DE LA CLASE 3 ES 29\n",
      "LA MEDIANA DE LA CLASE 3 ES 24\n"
     ]
    }
   ],
   "source": [
    "print('la mediana de la clase 1 es 37'.upper())\n",
    "print('la mediana de la clase 3 es 29'.upper())\n",
    "print('la mediana de la clase 3 es 24'.upper())"
   ]
  },
  {
   "cell_type": "code",
   "execution_count": 33,
   "id": "167a7407",
   "metadata": {},
   "outputs": [
    {
     "name": "stdout",
     "output_type": "stream",
     "text": [
      "PROMEDIO EDAD 1RA CLASE:  38.233440860215055\n",
      "PROMEDIO EDAD 2DA CLASE:  29.87763005780347\n",
      "PROMEDIO EDAD 3RA CLASE:  25.14061971830986\n"
     ]
    }
   ],
   "source": [
    "\n",
    "print(\"Promedio edad 1ra Clase: \".upper(),pasaj_c1['Age'].mean())\n",
    "print(\"Promedio edad 2da Clase: \".upper(),pasaj_c2['Age'].mean())\n",
    "print(\"Promedio edad 3ra clase: \".upper(),pasaj_c3['Age'].mean())"
   ]
  }
 ],
 "metadata": {
  "kernelspec": {
   "display_name": "Python 3 (ipykernel)",
   "language": "python",
   "name": "python3"
  },
  "language_info": {
   "codemirror_mode": {
    "name": "ipython",
    "version": 3
   },
   "file_extension": ".py",
   "mimetype": "text/x-python",
   "name": "python",
   "nbconvert_exporter": "python",
   "pygments_lexer": "ipython3",
   "version": "3.9.12"
  }
 },
 "nbformat": 4,
 "nbformat_minor": 5
}
