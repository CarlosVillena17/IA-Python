{
 "cells": [
  {
   "cell_type": "code",
   "execution_count": 1,
   "id": "c6cc8ad3",
   "metadata": {},
   "outputs": [
    {
     "data": {
      "text/plain": [
       "(1, 1, 2)"
      ]
     },
     "execution_count": 1,
     "metadata": {},
     "output_type": "execute_result"
    }
   ],
   "source": [
    "(1,1,2)"
   ]
  },
  {
   "cell_type": "code",
   "execution_count": 8,
   "id": "f164aed4",
   "metadata": {},
   "outputs": [],
   "source": [
    "def encontrarPerro(cadena):\n",
    "    lista=cadena.split(\" \")\n",
    "    for i in lista: \n",
    "        if i=='perro':\n",
    "            return True;\n",
    "        \n",
    "    return False;"
   ]
  },
  {
   "cell_type": "code",
   "execution_count": 10,
   "id": "e32ee48f",
   "metadata": {},
   "outputs": [],
   "source": [
    "def encontrarPerrito(cadena):\n",
    "    contador=0\n",
    "    lista=cadena.split(\" \")\n",
    "    for i in lista: \n",
    "        if i=='perro':\n",
    "            contador=contador+1;\n",
    "        \n",
    "    return contador;"
   ]
  },
  {
   "cell_type": "code",
   "execution_count": 9,
   "id": "f3f70452",
   "metadata": {},
   "outputs": [
    {
     "data": {
      "text/plain": [
       "False"
      ]
     },
     "execution_count": 9,
     "metadata": {},
     "output_type": "execute_result"
    }
   ],
   "source": [
    "encontrarPerro(\"Hola hay alguien aqui rro\")"
   ]
  },
  {
   "cell_type": "code",
   "execution_count": 11,
   "id": "f9c59f9f",
   "metadata": {},
   "outputs": [
    {
     "data": {
      "text/plain": [
       "3"
      ]
     },
     "execution_count": 11,
     "metadata": {},
     "output_type": "execute_result"
    }
   ],
   "source": [
    "encontrarPerrito(\"perro perro perro gaaaa uwuwu\")"
   ]
  },
  {
   "cell_type": "code",
   "execution_count": 12,
   "id": "13dfad74",
   "metadata": {},
   "outputs": [
    {
     "data": {
      "text/plain": [
       "2"
      ]
     },
     "execution_count": 12,
     "metadata": {},
     "output_type": "execute_result"
    }
   ],
   "source": [
    "encontrarPerrito(\"perro  perro gaaaa uwuwu\")"
   ]
  },
  {
   "cell_type": "code",
   "execution_count": 13,
   "id": "f1d8d349",
   "metadata": {},
   "outputs": [
    {
     "data": {
      "text/plain": [
       "['sopa', 'salado']"
      ]
     },
     "execution_count": 13,
     "metadata": {},
     "output_type": "execute_result"
    }
   ],
   "source": [
    "seq = ['sopa', 'perro', 'salado','gato','excelente']\n",
    "list(filter(lambda item: item[0] == 's',seq))"
   ]
  },
  {
   "cell_type": "code",
   "execution_count": 18,
   "id": "bb93540d",
   "metadata": {},
   "outputs": [
    {
     "data": {
      "text/plain": [
       "(6,)"
      ]
     },
     "execution_count": 18,
     "metadata": {},
     "output_type": "execute_result"
    }
   ],
   "source": [
    "import numpy as np\n",
    "a=np.array([1,2,3,4,5,7])\n"
   ]
  },
  {
   "cell_type": "code",
   "execution_count": 29,
   "id": "c07767cd",
   "metadata": {},
   "outputs": [],
   "source": [
    "def saber_infraccion(velocidad, cumpleaños):\n",
    "    a=60\n",
    "    b=80\n",
    "    \n",
    "    if(cumpleaños):\n",
    "        a= a+5\n",
    "        b=b+5\n",
    "    \n",
    "    if(velocidad<=a):\n",
    "        return \"Sin Infraccion\"\n",
    "    elif velocidad>a and velocidad<=b:\n",
    "        return \"Infraccion Leve\"\n",
    "    else: \n",
    "        return \"Infraccion Grave\"\n",
    "        "
   ]
  },
  {
   "cell_type": "code",
   "execution_count": 31,
   "id": "230e0bb4",
   "metadata": {},
   "outputs": [
    {
     "data": {
      "text/plain": [
       "'Infraccion Leve'"
      ]
     },
     "execution_count": 31,
     "metadata": {},
     "output_type": "execute_result"
    }
   ],
   "source": [
    "saber_infraccion(81,True)"
   ]
  }
 ],
 "metadata": {
  "kernelspec": {
   "display_name": "Python 3 (ipykernel)",
   "language": "python",
   "name": "python3"
  },
  "language_info": {
   "codemirror_mode": {
    "name": "ipython",
    "version": 3
   },
   "file_extension": ".py",
   "mimetype": "text/x-python",
   "name": "python",
   "nbconvert_exporter": "python",
   "pygments_lexer": "ipython3",
   "version": "3.9.12"
  }
 },
 "nbformat": 4,
 "nbformat_minor": 5
}
